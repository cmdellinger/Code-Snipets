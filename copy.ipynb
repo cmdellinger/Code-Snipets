{
 "cells": [
  {
   "cell_type": "code",
   "execution_count": null,
   "metadata": {},
   "outputs": [],
   "source": [
    "# script to copy files using calls to command-line\n",
    "from subprocess import call\n",
    "\n",
    "fname = \"/path/to/file_list.txt\"\n",
    "destination = \"/path/to/destination/directory/\"\n",
    "lines = [line.rstrip('\\n') for line in open(fname).readlines()]\n",
    "with open(fname) as f:\n",
    "    for line in f.readlines():\n",
    "        file_path = line.rstrip('\\n')\n",
    "        file_name = file_path.split('/')[-1]\n",
    "        destination_path = destination + file_name\n",
    "        call('cp -na \\\"' + file_path + '\\\" \\\"' + destination_path + '\\\"', shell=True)"
   ]
  },
  {
   "cell_type": "code",
   "execution_count": null,
   "metadata": {},
   "outputs": [],
   "source": [
    "# script to copy files using only python\n",
    "from shutil import copy2\n",
    "from os.path import isfile, basename, exists\n",
    "from sys import exit\n",
    "\n",
    "fname = \"/path/to/file_list.txt\"\n",
    "destination = \"/path/to/destination/directory/\"\n",
    "\n",
    "if not exists(destination):\n",
    "    print \"destination folder doesn't exist\"\n",
    "    exit()\n",
    "    \n",
    "files_copied = 0\n",
    "\n",
    "with open(fname) as f:\n",
    "    # read lines with full system path\n",
    "    for line in f.readlines():\n",
    "        # strip end line from full path\n",
    "        source_path = line.rstrip('\\n')\n",
    "        # get basename of file\n",
    "        file_name = basename(source_path)\n",
    "        try:\n",
    "            copy2(source_path, destination)\n",
    "            files_copied += 1\n",
    "        except:\n",
    "            if not isfile(source_path):\n",
    "                print \"file does not exist:\", file_name\n",
    "        if not isfile(destination+file_name):\n",
    "            print \"failed to copy:\", file_name\n",
    "            \n",
    "print \"total files copied:\", files_copied"
   ]
  },
  {
   "cell_type": "code",
   "execution_count": null,
   "metadata": {},
   "outputs": [],
   "source": [
    "# check if files in list exist in source and destination\n",
    "from shutil import copy2\n",
    "from os.path import isfile, basename, exists\n",
    "from sys import exit\n",
    "\n",
    "fname = \"/path/to/file_list.txt\"\n",
    "destination = \"/path/to/destination/directory/\"\n",
    "\n",
    "if not exists(destination):\n",
    "    print \"destination folder doesn't exist\"\n",
    "    exit()\n",
    "\n",
    "with open(fname) as f:\n",
    "    # read lines with full system path\n",
    "    for line in f.readlines():\n",
    "        # strip end line from full path\n",
    "        source_path = line.rstrip('\\n')\n",
    "        # get basename of file\n",
    "        file_name = basename(source_path)\n",
    "        if not isfile(source_path):\n",
    "            print \"file does not exist:\", file_name\n",
    "        if not isfile(destination+file_name):\n",
    "            print \"failed to copy:\", file_name"
   ]
  }
 ],
 "metadata": {
  "kernelspec": {
   "display_name": "Python 2",
   "language": "python",
   "name": "python2"
  },
  "language_info": {
   "codemirror_mode": {
    "name": "ipython",
    "version": 2
   },
   "file_extension": ".py",
   "mimetype": "text/x-python",
   "name": "python",
   "nbconvert_exporter": "python",
   "pygments_lexer": "ipython2",
   "version": "2.7.14"
  }
 },
 "nbformat": 4,
 "nbformat_minor": 2
}
